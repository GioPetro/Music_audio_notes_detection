{
 "cells": [
  {
   "cell_type": "code",
   "execution_count": 1,
   "metadata": {},
   "outputs": [
    {
     "name": "stdout",
     "output_type": "stream",
     "text": [
      "Importing Jupyter notebook from C:\\Users\\Gio\\Desktop\\P12127\\Jupyter Notebook Home\\Ptuxiakh\\Official\\Midiz.ipynb\n",
      "Importing Jupyter notebook from C:\\Users\\Gio\\Desktop\\P12127\\Jupyter Notebook Home\\Ptuxiakh\\Official\\Preprocess.ipynb\n"
     ]
    },
    {
     "data": {
      "text/plain": [
       "{'divide': 'warn', 'invalid': 'warn', 'over': 'warn', 'under': 'ignore'}"
      ]
     },
     "execution_count": 1,
     "metadata": {},
     "output_type": "execute_result"
    }
   ],
   "source": [
    "import glob\n",
    "import numpy as np\n",
    "import matplotlib.pyplot as plt\n",
    "import pretty_midi\n",
    "import random\n",
    "import nbimporter\n",
    "from Official import Midiz, Preprocess\n",
    "np.seterr(divide='ignore', invalid='ignore')"
   ]
  },
  {
   "cell_type": "code",
   "execution_count": 6,
   "metadata": {
    "scrolled": false
   },
   "outputs": [
    {
     "name": "stderr",
     "output_type": "stream",
     "text": [
      "C:\\Users\\Gio\\Desktop\\P12127\\Jupyter Notebook Home\\Ptuxiakh\\Official\\Preprocess.ipynb:10: ComplexWarning: Casting complex values to real discards the imaginary part\n",
      "  \"import matplotlib.pyplot as plt\\n\",\n"
     ]
    },
    {
     "name": "stdout",
     "output_type": "stream",
     "text": [
      "There are 1 instruments\n",
      "Instrument 1 has 176 notes\n",
      "Loaded file:  G://ΣΧΟΛΗ p12127//Πτυχιακη//MAPS Dataset\\MAPS_AkPnBcht_1\\AkPnBcht\\ISOL\\CH\\MAPS_ISOL_CH0.05_F_AkPnBcht.wav\n"
     ]
    }
   ],
   "source": [
    "def gen(batch_size):\n",
    "    '''Generator for the fit_generator function for the keras model. We have a ready-to-go generator from glob, getting files from dataset.\n",
    "    Then, we make sure we get the correct pair of wave/midi files.\n",
    "    We have many features that we might not use, but it will be useful someday.\n",
    "    We have the fbanks as the features.\n",
    "    We have the midi_data_labels as the labels of these features.\n",
    "    '''\n",
    "    path = glob.iglob('G://ΣΧΟΛΗ p12127//Πτυχιακη//MAPS Dataset//**//**//**//**//*.wav')\n",
    "    while True:   \n",
    "        wave_path = next(path)\n",
    "        midi_path = wave_path.split('.wav')[0] + '.mid'\n",
    "        fbanks = Preprocess.process(wave_path, small_window_size=True)\n",
    "        onsets, offsets, notes, on_offs, path= Midiz.midi_data_extractor(midi_path)\n",
    "        midi_labels = Midiz.piano_roll(midi_path, 21, 108)\n",
    "        print('Loaded file: ', wave_path)   \n",
    "        yield fbanks, midi_labels, onsets, offsets, notes, on_offs, path\n",
    "gen_obj = gen(50)\n",
    "fbanks, midi_labels, onsets, offsets, notes, on_offs, path = next(gen_obj)"
   ]
  },
  {
   "cell_type": "code",
   "execution_count": 7,
   "metadata": {},
   "outputs": [
    {
     "data": {
      "text/plain": [
       "(2000, 87)"
      ]
     },
     "execution_count": 7,
     "metadata": {},
     "output_type": "execute_result"
    }
   ],
   "source": [
    "fbanks.shape"
   ]
  },
  {
   "cell_type": "code",
   "execution_count": 8,
   "metadata": {},
   "outputs": [
    {
     "data": {
      "text/plain": [
       "(2000, 87)"
      ]
     },
     "execution_count": 8,
     "metadata": {},
     "output_type": "execute_result"
    }
   ],
   "source": [
    "midi_labels.shape"
   ]
  }
 ],
 "metadata": {
  "kernelspec": {
   "display_name": "Python 3",
   "language": "python",
   "name": "python3"
  },
  "language_info": {
   "codemirror_mode": {
    "name": "ipython",
    "version": 3
   },
   "file_extension": ".py",
   "mimetype": "text/x-python",
   "name": "python",
   "nbconvert_exporter": "python",
   "pygments_lexer": "ipython3",
   "version": "3.6.3"
  }
 },
 "nbformat": 4,
 "nbformat_minor": 2
}
