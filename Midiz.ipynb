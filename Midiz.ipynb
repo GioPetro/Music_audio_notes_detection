{
 "cells": [
  {
   "cell_type": "code",
   "execution_count": 1,
   "metadata": {},
   "outputs": [
    {
     "name": "stdout",
     "output_type": "stream",
     "text": [
      "Importing Jupyter notebook from Preprocess.ipynb\n"
     ]
    }
   ],
   "source": [
    "import pretty_midi\n",
    "import numpy as np\n",
    "import matplotlib.pyplot as plt\n",
    "%matplotlib inline\n",
    "import IPython.display\n",
    "import librosa.display as li\n",
    "import mido\n",
    "from mido import MidiFile\n",
    "import glob\n",
    "import nbimporter\n",
    "import Preprocess\n",
    "import librosa as li\n",
    "np.set_printoptions(threshold=np.nan) # print shows all.\n",
    "pretty_midi.pretty_midi.MAX_TICK = 1e30 # Prevents Maximum tick overflow for the midi tracks that are big (normal songs)."
   ]
  },
  {
   "cell_type": "code",
   "execution_count": 2,
   "metadata": {},
   "outputs": [],
   "source": [
    "''' Plot the midi file in 2D.\n",
    "    A pretty_midi file object is required (pm).\n",
    "    Start and end pitch, are reffering to which radius the image should\n",
    "    plot. Librosa is required to run this function.\n",
    "'''\n",
    "inputfile = 'G:\\ΣΧΟΛΗ p12127\\Πτυχιακη\\MAPS Dataset\\Music Dataset\\Validation Dataset\\MAPS_SptkBGAm_2\\SptkBGAm\\MUS\\MAPS_MUS-alb_esp2_SptkBGAm.mid'\n",
    "def plot_piano_roll(pm, start_pitch=21, end_pitch=108, fs=100):\n",
    "    plt.figure()\n",
    "    # Use librosa's specshow function for displaying the piano roll\n",
    "    midifile = pretty_midi.PrettyMIDI(pm)\n",
    "    li.display.specshow(midifile.get_piano_roll(fs)[start_pitch:end_pitch],\n",
    "                             hop_length=1, sr=fs, x_axis='time', y_axis='cqt_note',\n",
    "                             fmin=pretty_midi.note_number_to_hz(start_pitch))"
   ]
  },
  {
   "cell_type": "code",
   "execution_count": 3,
   "metadata": {},
   "outputs": [],
   "source": [
    "''' Get relation between midi vocabulary and Hertz Frequencies.\n",
    "    128 possible notes in midi representation.\n",
    "'''\n",
    "\n",
    "def midi_hertz():\n",
    "    g = 2**(1/12)\n",
    "    f = lambda midipitch: 440*g**(midipitch-69)\n",
    "    relation = np.zeros(128*2).reshape(128,2)\n",
    "    for midi in range(128):\n",
    "        freq = f(midi)\n",
    "        relation[midi,0] = int(midi)\n",
    "        relation[midi,1] = freq\n",
    "        #print('midi = {} = {:.1f} Hz'.format(midi, freq))\n",
    "    #return relation\n",
    "midi_hertz()"
   ]
  },
  {
   "cell_type": "code",
   "execution_count": 4,
   "metadata": {},
   "outputs": [],
   "source": [
    "''' Get a path as an input. This path must point on a midi file.\n",
    "    This is a Parser using mido library, parsing the messages it creates.\n",
    "    Format of messages : \"note_on channel=0 note=99 velocity=37 time=14913\"\n",
    "    We clean the messages and keep only the information of the midi.\n",
    "    We parse it and then store each feature to their respective arrays,\n",
    "    which we turn them into numpy ones at the end of the function.\n",
    "    It returns : \n",
    "    Onsets (Perfectly done)\n",
    "    Offsets (Kicks error if data is not cleaned)\n",
    "    Notes (Kicks error if data is not cleaned)\n",
    "'''\n",
    "def midi_data_extractor(path):\n",
    "# Inputs of function:\n",
    "    prettyfile = pretty_midi.PrettyMIDI(path)\n",
    "    midi_file = MidiFile(path)\n",
    "    # Onsets, length of the midi file:   \n",
    "    onsets = prettyfile.get_onsets()\n",
    "    length = prettyfile.get_end_time() # length of midi track.\n",
    "# Get Data:\n",
    "    msgs = []   # msgs are the data we need in the message format of mido.\n",
    "    midi_notes = []\n",
    "    for i, track in enumerate(midi_file.tracks):\n",
    "        for message in track:\n",
    "            msgs.append(message)\n",
    "            midi_notes.append(message.bytes()) # to get notes!\n",
    "# Clean Data:\n",
    "    if str(msgs[0]).startswith('<meta message'):\n",
    "        start_message, end_message = msgs[0], msgs[-1]\n",
    "        start_message = str(start_message).split(' ')\n",
    "    # end_message = str(end_message).split(' ') It is not needed at all.\n",
    "        tempo = start_message[3].rsplit('=', 2)[-1]\n",
    "        del midi_notes[0], midi_notes[-1]\n",
    "        del msgs[0], msgs[-1]\n",
    "    # Remove information about \"message control_change\" if there is:\n",
    "# Extract the data and numpy them.\n",
    "# Initialize : \n",
    "    on_offs = [None]*len(msgs)\n",
    "    channels = [None]*len(msgs)\n",
    "    velocities = [None]*len(msgs)\n",
    "    time = [None]*len(msgs)\n",
    "    spliter = [None]*5\n",
    "    for msg in range(len(msgs)):\n",
    "        spliter = str(msgs[msg]).split(' ')\n",
    "# Parse Data:\n",
    "        if spliter[0].startswith('note_off'):\n",
    "            on_offs[msg] = 0\n",
    "        elif spliter[0].startswith('note_on'):\n",
    "            on_offs[msg] = 1\n",
    "            \n",
    "        channels[msg] = int(list(filter(str.isdigit, spliter[1]))[0])\n",
    "       \n",
    "        if spliter[3].startswith('velocity='):\n",
    "            velocities[msg] = spliter[3].rsplit('=', 1)[-1]\n",
    "            \n",
    "        if spliter[-1].startswith('time='):\n",
    "            time[msg] = spliter[-1].rsplit('=', 1)[-1]\n",
    "# These are the extracted information from the midi file, but they are Strings!\n",
    "# Convert lists to numpy arrays:\n",
    "    on_offs = np.asarray(on_offs, dtype=np.bool_) # np.float = np.float64 = python's float.\n",
    "    channels = np.asarray(channels, dtype=np.int8)\n",
    "    #velocities = np.asarray(velocities, dtype=np.int16)\n",
    "    time = np.asarray(time, dtype=np.float64)\n",
    "    tempo = np.asarray(tempo, dtype=np.int)\n",
    "    onsets = np.asarray(onsets, dtype=np.float64)\n",
    "    \n",
    "# For offsets, use the sum of previous to get offset times (according to dataset).\n",
    "    time = mido.tick2second(time, midi_file.ticks_per_beat, tempo)\n",
    "    offsets = np.zeros(int(len(time)/2))\n",
    "    # Get correct time format, by summing subsecutive timestamps of midi info\n",
    "    for x in range(len(offsets)):\n",
    "        offsets[x] = time[x] + time[x+1] + offsets[x-1]\n",
    "    print ('There are {} instruments'.format(len(prettyfile.instruments)))\n",
    "    print ('Instrument 1 has {} notes'.format(len(prettyfile.instruments[0].notes)))        \n",
    "    \n",
    "# Getting notes!\n",
    "    notes = []\n",
    "    for i in range(len(midi_notes)):\n",
    "        notes.append(midi_notes[i][1])\n",
    "    notes = np.asarray(notes, dtype=np.int8)\n",
    "    return onsets, offsets, notes, on_offs"
   ]
  },
  {
   "cell_type": "code",
   "execution_count": 5,
   "metadata": {},
   "outputs": [],
   "source": [
    "'''Compute and return the midi onsets of the file loaded.'''\n",
    "def midi_onsets(path):\n",
    "    prettyfile = pretty_midi.PrettyMIDI(path)\n",
    "    onsets = prettyfile.get_onsets()\n",
    "    return onsets"
   ]
  },
  {
   "cell_type": "code",
   "execution_count": 6,
   "metadata": {},
   "outputs": [
    {
     "data": {
      "text/plain": [
       "' If the tempo changes, we get a message from mido about \"message control_change\".\\n    Must fix !\\n'"
      ]
     },
     "execution_count": 6,
     "metadata": {},
     "output_type": "execute_result"
    }
   ],
   "source": [
    "''' If the tempo changes, we get a message from mido about \"message control_change\".\n",
    "    Must fix !\n",
    "'''\n",
    "#offsets, notes, \n",
    "#onsets"
   ]
  },
  {
   "cell_type": "code",
   "execution_count": 7,
   "metadata": {},
   "outputs": [],
   "source": [
    "'''Check in every frame, which note has a value. Put value=1 and go to next\n",
    "frame. If there is still a note, keep value=1.\n",
    "When you see a note=0, then put value=0.\n",
    "Zero pad to reach needed frames frames with 88 filterbanks each.\n",
    "'''\n",
    "\n",
    "def piano_roll(midi_path, number_of_frames, start_pitch=21, end_pitch=109):\n",
    "    '''Need Pretty_midi.\n",
    "    FPS = 100 as the Paper suggested.\n",
    "    We get the path, and then load with pretty_midi the file.\n",
    "    We need to put limits to which notes we are getting. We do not need all 127 notes of piano roll.\n",
    "    We need 88 notes only. Spontaneously [21-108] midi notes.\n",
    "    We transpose the midi piano roll, as we need same dimension with the filterbanks of the wave file.\n",
    "    We then check, wherever there is a note (that is telling us which banks and which frame hits a note), we \n",
    "    change the value to 1. Now, we zero pad to reach the same dimensions as on fbanks => 2000 frames with 88 banks each.\n",
    "    '''\n",
    "   \n",
    "    midifile = pretty_midi.PrettyMIDI(midi_path)\n",
    "    midi_data_labels = midifile.get_piano_roll(100)[start_pitch:end_pitch]\n",
    "    midi_labels = midi_data_labels.transpose()\n",
    "    #print(midi_labels[round(midi_labels.shape[0]/2)])\n",
    "    for i in range(midi_labels.shape[0]):\n",
    "         for j in range(midi_labels.shape[1]):\n",
    "                if midi_labels[i,j] != 0:\n",
    "                    midi_labels[i,j] = 1\n",
    "    \n",
    "    #Zero Pad to reach filterbanks dimensions, (2000, 88):\n",
    "    if midi_labels.shape[0] < number_of_frames:\n",
    "        zeropad = np.zeros((number_of_frames-midi_labels.shape[0], 88))\n",
    "        #print(\"Concat: \", midi_labels.shape, zeropad.shape)\n",
    "        midi_labels = np.concatenate((midi_labels, zeropad))\n",
    "        #print(\"shape  midi\" ,midi_labels.shape)\n",
    "    else:\n",
    "        midi_labels = midi_labels[:,:number_of_frames]\n",
    "    return midi_labels"
   ]
  },
  {
   "cell_type": "code",
   "execution_count": 13,
   "metadata": {},
   "outputs": [
    {
     "data": {
      "image/png": "[encoded data removed]",
      "text/plain": [
       "<Figure size 432x288 with 1 Axes>"
      ]
     },
     "metadata": {},
     "output_type": "display_data"
    },
    {
     "data": {
      "image/png": "[encoded data removed]",
      "text/plain": [
       "<Figure size 432x288 with 2 Axes>"
      ]
     },
     "metadata": {},
     "output_type": "display_data"
    }
   ],
   "source": [
    "'''\n",
    "Testing, comparing same files.\n",
    "Midi Y axis is from low to high\n",
    "Wave Y axis is from high to low. \n",
    "Is this correct?\n",
    "\n",
    "'''\n",
    "inputfile = 'G:\\ΣΧΟΛΗ p12127\\Πτυχιακη\\MAPS Dataset\\Test Dataset\\MAPS_AkPnBcht_1\\AkPnBcht\\ISOL\\CH\\MAPS_ISOL_CH0.1_F_AkPnBcht.mid'\n",
    "wavefile = 'G:\\ΣΧΟΛΗ p12127\\Πτυχιακη\\MAPS Dataset\\Test Dataset\\MAPS_AkPnBcht_1\\AkPnBcht\\ISOL\\CH\\MAPS_ISOL_CH0.1_F_AkPnBcht.wav'\n",
    "pm = pretty_midi.PrettyMIDI(inputfile)\n",
    "midi_labels = piano_roll(inputfile, 18000)\n",
    "pm.tick_to_time(18498011)\n",
    "\n",
    "'''Plot the spectrograms:'''\n",
    "ylabels = plot_piano_roll(inputfile)\n",
    "yhat = Preprocess.process(wavefile, True)\n",
    "Preprocess.wave_plot(np.flipud(yhat.T))"
   ]
  },
  {
   "cell_type": "code",
   "execution_count": 9,
   "metadata": {},
   "outputs": [
    {
     "name": "stdout",
     "output_type": "stream",
     "text": [
      "(18000, 88)\n",
      "[0. 0. 0. 0. 0. 0. 0. 0. 0. 0. 0. 0. 0. 0. 0. 0. 0. 0. 0. 0. 0. 0. 0. 0.\n",
      " 0. 0. 0. 0. 0. 0. 0. 1. 0. 0. 0. 0. 0. 0. 0. 0. 0. 0. 0. 0. 0. 0. 0. 0.\n",
      " 0. 0. 0. 0. 0. 0. 0. 0. 0. 0. 0. 0. 0. 0. 0. 0. 0. 0. 0. 0. 0. 0. 0. 0.\n",
      " 0. 0. 0. 0. 0. 0. 0. 0. 0. 0. 0. 0. 0. 0. 0. 0.]\n"
     ]
    }
   ],
   "source": [
    "'''Debugging purposes:'''\n",
    "midifile = pretty_midi.PrettyMIDI(inputfile)\n",
    "midi_data_labels = midifile.get_piano_roll(100)[21:109]\n",
    "#midi_labels = midi_data_labels.transpose()\n",
    "print(midi_labels.shape)\n",
    "print(midi_labels[400]) # ,31"
   ]
  },
  {
   "cell_type": "code",
   "execution_count": null,
   "metadata": {},
   "outputs": [],
   "source": []
  }
 ],
 "metadata": {
  "kernelspec": {
   "display_name": "Python 3",
   "language": "python",
   "name": "python3"
  },
  "language_info": {
   "codemirror_mode": {
    "name": "ipython",
    "version": 3
   },
   "file_extension": ".py",
   "mimetype": "text/x-python",
   "name": "python",
   "nbconvert_exporter": "python",
   "pygments_lexer": "ipython3",
   "version": "3.6.3"
  }
 },
 "nbformat": 4,
 "nbformat_minor": 2
}
