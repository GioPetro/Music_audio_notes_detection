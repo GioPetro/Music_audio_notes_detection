{
 "cells": [
  {
   "cell_type": "code",
   "execution_count": 1,
   "metadata": {},
   "outputs": [],
   "source": [
    "import numpy as np\n",
    "import matplotlib.pyplot as plt\n",
    "%matplotlib inline\n",
    "from scipy import signal\n",
    "from scipy.fftpack import fft, fftshift\n",
    "from sklearn.preprocessing import MinMaxScaler, normalize, scale\n",
    "import librosa as li\n",
    "import librosa.display\n",
    "import glob\n",
    "\n",
    "from ipywidgets import interact, interactive, fixed\n",
    "import ipywidgets as widgets\n",
    "from IPython.display import display\n",
    "from IPython.display import Audio\n",
    "np.seterr(divide='ignore', invalid='ignore')\n",
    "from IPython.core.interactiveshell import InteractiveShell\n",
    "InteractiveShell.ast_node_interactivity = \"all\""
   ]
  },
  {
   "cell_type": "code",
   "execution_count": 2,
   "metadata": {},
   "outputs": [],
   "source": [
    "path = glob.iglob('G:\\ΣΧΟΛΗ p12127\\Πτυχιακη\\MAPS Dataset\\Music Dataset\\Validation Dataset\\**\\**\\**\\*.wav')\n",
    "#inputfile='Alesis-Fusion-Nylon-String-Guitar-C4.wav'\n",
    "inputfile=next(path)"
   ]
  },
  {
   "cell_type": "code",
   "execution_count": 3,
   "metadata": {},
   "outputs": [
    {
     "data": {
      "text/plain": [
       "'We load the file using librosa. Data is stored, sample rate is sr.\\nWe use pre emphasis on the data.\\nWe specify which kind of window (small/big) we have and then we apply it.\\nWe return the needed information for the rest of the preprocessing procedure.\\nframesize = nfft_length in this notebook they are the same value and ALWAYS SHOULD be.\\n'"
      ]
     },
     "execution_count": 3,
     "metadata": {},
     "output_type": "execute_result"
    },
    {
     "name": "stdout",
     "output_type": "stream",
     "text": [
      "Data:  5620807 \n",
      "Sample rate:  44100 \n",
      "frame size:  2048 \n",
      "number of frames:  12745\n"
     ]
    }
   ],
   "source": [
    "'''We load the file using librosa. Data is stored, sample rate is sr.\n",
    "We use pre emphasis on the data.\n",
    "We specify which kind of window (small/big) we have and then we apply it.\n",
    "We return the needed information for the rest of the preprocessing procedure.\n",
    "framesize = nfft_length in this notebook they are the same value and ALWAYS SHOULD be.\n",
    "'''\n",
    "def extract(inputfile, small_window_size=True):\n",
    "\n",
    "    data, sr = li.core.load(inputfile,sr=None,mono=True,offset=0.0,duration=300.0,dtype=float)\n",
    "    pre_emphasis = 0.97\n",
    "    data = np.append(data[0], data[1:] - pre_emphasis * data[:-1])\n",
    " \n",
    "    if small_window_size==True:\n",
    "        window_size=0.04645\n",
    "        nfft_length = int(window_size*sr)\n",
    "    else:\n",
    "        window_size=0.04645*4\n",
    "        nfft_length = int(window_size*sr-1)\n",
    "    \n",
    "    all_frames_length = len(data)\n",
    "    window_hop_length = 0.01\n",
    "    #window_size = 0.04645\n",
    "    overlap = int(sr*window_hop_length)\n",
    "    number_of_frames = int(all_frames_length/overlap)\n",
    "    \n",
    "    return data, sr, nfft_length, number_of_frames\n",
    "\n",
    "data, sr, nfft_length, number_of_frames = extract(inputfile, small_window_size=True)\n",
    "print(\"Data: \", len(data), \"\\nSample rate: \", sr ,\"\\nframe size: \", nfft_length, \"\\nnumber of frames: \", number_of_frames)"
   ]
  },
  {
   "cell_type": "code",
   "execution_count": 4,
   "metadata": {},
   "outputs": [
    {
     "data": {
      "text/plain": [
       "'Create chuncks of the data according to window of fft. small = 2048, big = 4*2048.'"
      ]
     },
     "execution_count": 4,
     "metadata": {},
     "output_type": "execute_result"
    },
    {
     "name": "stdout",
     "output_type": "stream",
     "text": [
      "(12745, 2048)\n"
     ]
    }
   ],
   "source": [
    "'''Create chuncks of the data according to window of fft. small = 2048, big = 4*2048.'''\n",
    "def create_frames(data, nfft_length, number_of_frames):\n",
    "    frames = np.ndarray((number_of_frames, nfft_length))\n",
    "    overlap=441\n",
    "    for k in range(number_of_frames):\n",
    "        for i in range(nfft_length):\n",
    "            if((k*overlap+i)<int(len(data))):\n",
    "                frames[k][i] = data[k*overlap+i]\n",
    "    return frames\n",
    "\n",
    "frames = create_frames(data, nfft_length, number_of_frames)\n",
    "print(frames.shape)"
   ]
  },
  {
   "cell_type": "code",
   "execution_count": 5,
   "metadata": {},
   "outputs": [
    {
     "data": {
      "text/plain": [
       "'We use all the above information we extracted and we get the magnitude frames.\\nFirst apply Hamming window to time-domain frames. Then FFT them, keep only the real part.\\nThen the power frames that are the energies of the FFT.\\nThen we create the bins we need to store the 88 possible notes. '"
      ]
     },
     "execution_count": 5,
     "metadata": {},
     "output_type": "execute_result"
    },
    {
     "data": {
      "text/plain": [
       "(12745, 88)"
      ]
     },
     "execution_count": 5,
     "metadata": {},
     "output_type": "execute_result"
    }
   ],
   "source": [
    "'''We use all the above information we extracted and we get the magnitude frames.\n",
    "First apply Hamming window to time-domain frames. Then FFT them, keep only the real part.\n",
    "Then the power frames that are the energies of the FFT.\n",
    "Then we create the bins we need to store the 88 possible notes. '''\n",
    "def spectrogram(frames, nfft_length, sr):\n",
    "    \n",
    "    '''Hertz vocabulary.'''\n",
    "    hz_notes = np.zeros(90)\n",
    "    hz_notes[-1] = sr/2\n",
    "    for i in range(88):\n",
    "        hz_notes[i+1] = (2**((i-48)/12) * 440)\n",
    "    #print(\"Frequencies of notes that split the filterbanks: \\n\", hz_notes)\n",
    "    \n",
    "    ''' Hamming window applied before FFT.'''\n",
    "    ham = signal.hamming(nfft_length)\n",
    "    #plt.xlabel('Samples')\n",
    "    #plt.ylabel('Amplitude')\n",
    "    #plt.plot(ham)\n",
    "    \n",
    "    for i in range(0, frames.shape[0]):\n",
    "        frames[i] *= ham\n",
    "    \n",
    "    # Magnitude of frames (simple fft appliance)\n",
    "    '''To apply logarithmic characteristics of sound intensity,\n",
    "    a log-like compression with a multiplication factor 1000 is\n",
    "    applied on the magnitude of spectrograms\n",
    "    ''' \n",
    "    mag_frames = np.abs(np.fft.rfft(frames, nfft_length))\n",
    "    #mag_frames = 10e3*np.log10(mag_frames)\n",
    "    # Power Spectrum of frames.\n",
    "    pow_frames = ((1.0 / nfft_length) * ((mag_frames) ** 2))  # Power Spectrum\n",
    "    \n",
    "    nfilt = 88 # number of filters we need to have the 88 notes of the midipiano\n",
    "    high_freq_mel = (2595 * np.log10(1 + (sr / 2) / 700))  # Convert Hz to Mel\n",
    "    mel_points = np.linspace(0, high_freq_mel, 88 + 2)  # Equally spaced in Mel scale\n",
    "    hz_points = (700 * (10**(mel_points / 2595) - 1))  # Convert Mel to Hz\n",
    "    binz = np.floor((nfft_length+1) * hz_points / sr)\n",
    "\n",
    "    # fb stands for filterbank:\n",
    "    fb = np.zeros((nfilt, int(np.floor(nfft_length/2 +1))))\n",
    "    for i in range(1, nfilt + 1): \n",
    "        filter_left = int(binz[i-1])\n",
    "        filter_center = int(binz[i])\n",
    "        filter_right = int(binz[i+1])\n",
    "        \n",
    "        for k in range(filter_left, filter_center):\n",
    "            fb[i-1, k] = (k -binz[i-1]) / (binz[i] - binz[i-1])\n",
    "        for k in range(filter_center, filter_right):\n",
    "            fb[i-1, k] = (binz[i+1]- k) / (binz[i+1] - binz[i])\n",
    "        \n",
    "    filterbanks = np.dot(pow_frames, fb.T)\n",
    "    #filterbanks = 20 * np.log10(filterbanks)  # dB\n",
    "    \n",
    "    \n",
    "    '''Use local maxima as second method to get the loudest notes:''' \n",
    " #   maxm = signal.argrelextrema(filterbanks, np.greater, axis=0, order=1)\n",
    " #   x = np.array(maxm[0])\n",
    " #   y = np.array(maxm[1])\n",
    " #   fb = np.zeros((filterbanks.shape[0], filterbanks.shape[1]))\n",
    " #   for i in range(x.size):\n",
    " #       fb[x[i],y[i]]=1\n",
    "        \n",
    "        \n",
    "        \n",
    "    ''' Allow this to run when trying to normalize! And disable local Maxima.'''\n",
    "    \n",
    "    \n",
    "    fb = normalize(filterbanks) #, axis=0\n",
    "    # Get the negative values of filterbanks to equal 0.\n",
    "    for i in range(fb.shape[0]):\n",
    "        for j in range(fb.shape[1]):\n",
    "            if fb[i,j] < 0:\n",
    "                fb[i,j] = 0\n",
    "    #filterbanks = np.where(filterbanks==0, np.finfo(float).eps, filterbanks)\n",
    "    \n",
    "    \n",
    "    \n",
    "    return(fb)\n",
    "\n",
    "\n",
    "filterbanks = spectrogram(frames, nfft_length, sr)\n",
    "filterbanks.shape"
   ]
  },
  {
   "cell_type": "code",
   "execution_count": 6,
   "metadata": {},
   "outputs": [
    {
     "data": {
      "text/plain": [
       "'ZERO_PAD: We get the number of frames that the wave file has.\\nWe use mod to get the remainder that divides with 0 remainder from 50. \\n50 is the FPS we need for each batch, so we need to just zero pad this far.\\nWe return the frames which contain the values of the frames, and the\\ntotal_frames which is equal to the number of frames, after the zero pad is done.\\nFrames are in time domain, NOT in frequency domain.\\n'"
      ]
     },
     "execution_count": 6,
     "metadata": {},
     "output_type": "execute_result"
    }
   ],
   "source": [
    "'''ZERO_PAD: We get the number of frames that the wave file has.\n",
    "We use mod to get the remainder that divides with 0 remainder from 50. \n",
    "50 is the FPS we need for each batch, so we need to just zero pad this far.\n",
    "We return the frames which contain the values of the frames, and the\n",
    "total_frames which is equal to the number of frames, after the zero pad is done.\n",
    "Frames are in time domain, NOT in frequency domain.\n",
    "'''\n",
    "def zero_pad(filterbanks):\n",
    "    overlap=441\n",
    "    divider, remainder = np.divmod(filterbanks.shape[0] , 50)\n",
    "    zero_frames = 50 - remainder# +1 # +1 because we later get the 1st order diff. therefore we need +1 frames.\n",
    "    frames = np.ndarray((zero_frames, 88))\n",
    "    filterbanks = np.concatenate((filterbanks, frames), axis=0)\n",
    "    \n",
    "    '''Not properly working.'''\n",
    "    return filterbanks"
   ]
  },
  {
   "cell_type": "code",
   "execution_count": 30,
   "metadata": {},
   "outputs": [
    {
     "data": {
      "text/plain": [
       "'Must get the 1st order difference between the frames, not the banks.\\nWe compute the 1st order difference to get another spectrogram.\\nIn the paper, it suggests it works better than the pure energies in the filterbanks.\\nThe 1st order diff : Get the difference, and then normalise (-1,1)\\n'"
      ]
     },
     "execution_count": 30,
     "metadata": {},
     "output_type": "execute_result"
    },
    {
     "data": {
      "image/png": "[encoded data removed]",
      "text/plain": [
       "<Figure size 432x288 with 2 Axes>"
      ]
     },
     "metadata": {},
     "output_type": "display_data"
    }
   ],
   "source": [
    "'''Must get the 1st order difference between the frames, not the banks.\n",
    "We compute the 1st order difference to get another spectrogram.\n",
    "In the paper, it suggests it works better than the pure energies in the filterbanks.\n",
    "The 1st order diff : Get the difference, and then normalise (-1,1)\n",
    "'''\n",
    "def firdif(fb):\n",
    "    banks = np.diff(fb, axis=0)\n",
    "    scaler = MinMaxScaler(feature_range=(-1,1))\n",
    "    scaler = scaler.fit(banks)\n",
    "    banks = scaler.transform(banks)\n",
    "    \n",
    "    plt.figure()\n",
    "    plt.imshow(np.flipud(banks.T),cmap=\"magma\", aspect=88)\n",
    "    plt.title('First Difference Between Frames')\n",
    "    plt.colorbar()\n",
    "    \n",
    "\n",
    "#firdif(filterbanks)\n",
    "\n",
    "def wave_plot(filterbanks):\n",
    "    plt.figure()\n",
    "    plt.imshow(np.flipud(filterbanks.T),cmap=\"magma\",  aspect=100) #magma\n",
    "    plt.title(\"Filterbanks Spectrogram\")\n",
    "    plt.colorbar()\n",
    "    \n",
    "wave_plot(filterbanks)"
   ]
  },
  {
   "cell_type": "markdown",
   "metadata": {},
   "source": [
    "## Final output for preprocessing!\n",
    "window_size can have another value"
   ]
  },
  {
   "cell_type": "code",
   "execution_count": 25,
   "metadata": {},
   "outputs": [
    {
     "data": {
      "text/plain": [
       "'Finally, we gather all the functions we created above, uniting them in one, so it is easy to call it\\n    on another file. We just need the path and which of the 2 windows we would like to compute, and returns\\n    the first order difference of the filterbanks.'"
      ]
     },
     "execution_count": 25,
     "metadata": {},
     "output_type": "execute_result"
    }
   ],
   "source": [
    "'''Finally, we gather all the functions we created above, uniting them in one, so it is easy to call it\n",
    "    on another file. We just need the path and which of the 2 windows we would like to compute, and returns\n",
    "    the first order difference of the filterbanks.'''\n",
    "def process(inputfile, small_window_size):\n",
    "    data, sr, nfft_length, number_of_frames = extract(inputfile=inputfile, small_window_size=small_window_size)\n",
    "    frames = create_frames(data, nfft_length, number_of_frames)\n",
    "    filterbanks = spectrogram(frames, nfft_length, sr)\n",
    "    ''' Try without the differences, since we dont concatenate input with the dif. \n",
    "    Try to train with just the banks as it is.'''\n",
    "    return (np.flipud(filterbanks.T))"
   ]
  },
  {
   "cell_type": "code",
   "execution_count": 26,
   "metadata": {},
   "outputs": [],
   "source": [
    "fbanks = process(inputfile=inputfile,small_window_size=True)"
   ]
  },
  {
   "cell_type": "code",
   "execution_count": 28,
   "metadata": {},
   "outputs": [
    {
     "data": {
      "text/plain": [
       "(88, 12745)"
      ]
     },
     "execution_count": 28,
     "metadata": {},
     "output_type": "execute_result"
    },
    {
     "data": {
      "text/plain": [
       "<matplotlib.image.AxesImage at 0x2eb170b8>"
      ]
     },
     "execution_count": 28,
     "metadata": {},
     "output_type": "execute_result"
    },
    {
     "data": {
      "image/png": "[encoded data removed]",
      "text/plain": [
       "<Figure size 432x288 with 1 Axes>"
      ]
     },
     "metadata": {},
     "output_type": "display_data"
    }
   ],
   "source": [
    "fbanks.shape\n",
    "plt.imshow(fbanks, aspect=100)"
   ]
  },
  {
   "cell_type": "code",
   "execution_count": null,
   "metadata": {},
   "outputs": [],
   "source": []
  }
 ],
 "metadata": {
  "kernelspec": {
   "display_name": "Python 3",
   "language": "python",
   "name": "python3"
  },
  "language_info": {
   "codemirror_mode": {
    "name": "ipython",
    "version": 3
   },
   "file_extension": ".py",
   "mimetype": "text/x-python",
   "name": "python",
   "nbconvert_exporter": "python",
   "pygments_lexer": "ipython3",
   "version": "3.6.3"
  }
 },
 "nbformat": 4,
 "nbformat_minor": 2
}
